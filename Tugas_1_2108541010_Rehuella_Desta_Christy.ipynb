{
 "cells": [
  {
   "cell_type": "markdown",
   "id": "e4beb010",
   "metadata": {},
   "source": [
    "# 5.1 Print\n",
    "Perintah ini akan mencetak tulisan yang ada di dalam tanda print(\" \") atau print(' ')"
   ]
  },
  {
   "cell_type": "code",
   "execution_count": 1,
   "id": "07e43c30",
   "metadata": {},
   "outputs": [
    {
     "name": "stdout",
     "output_type": "stream",
     "text": [
      "Absen Agama Kristen\n"
     ]
    }
   ],
   "source": [
    "print('Absen Agama Kristen')"
   ]
  },
  {
   "cell_type": "code",
   "execution_count": 2,
   "id": "77d87c74",
   "metadata": {},
   "outputs": [
    {
     "name": "stdout",
     "output_type": "stream",
     "text": [
      "Absen Agama Kristen\n"
     ]
    }
   ],
   "source": [
    "print(\"Absen Agama Kristen\")"
   ]
  },
  {
   "cell_type": "code",
   "execution_count": 3,
   "id": "9098febe",
   "metadata": {},
   "outputs": [
    {
     "name": "stdout",
     "output_type": "stream",
     "text": [
      "Pertemuan Pertama\n"
     ]
    }
   ],
   "source": [
    "print('Pertemuan Pertama')"
   ]
  },
  {
   "cell_type": "code",
   "execution_count": 5,
   "id": "8d68c03e",
   "metadata": {},
   "outputs": [
    {
     "name": "stdout",
     "output_type": "stream",
     "text": [
      "Rehuella Desta Christy\n"
     ]
    }
   ],
   "source": [
    "print('Rehuella Desta Christy')"
   ]
  },
  {
   "cell_type": "code",
   "execution_count": 10,
   "id": "38849a72",
   "metadata": {},
   "outputs": [
    {
     "name": "stdout",
     "output_type": "stream",
     "text": [
      "2108541010\n"
     ]
    }
   ],
   "source": [
    "print('2108541010')"
   ]
  },
  {
   "cell_type": "code",
   "execution_count": 9,
   "id": "f977a709",
   "metadata": {},
   "outputs": [
    {
     "name": "stdout",
     "output_type": "stream",
     "text": [
      "Kelas A\n"
     ]
    }
   ],
   "source": [
    "print('Kelas A')"
   ]
  },
  {
   "cell_type": "code",
   "execution_count": 12,
   "id": "685b6e76",
   "metadata": {},
   "outputs": [
    {
     "name": "stdout",
     "output_type": "stream",
     "text": [
      "40\n",
      "1000000\n",
      "40000000\n"
     ]
    }
   ],
   "source": [
    "mahasiswa = 40\n",
    "uang_di_bank = 1000000\n",
    "print(mahasiswa)\n",
    "print(uang_di_bank)\n",
    "print(mahasiswa*uang_di_bank)"
   ]
  },
  {
   "cell_type": "code",
   "execution_count": 1,
   "id": "ee17886e",
   "metadata": {},
   "outputs": [
    {
     "name": "stdout",
     "output_type": "stream",
     "text": [
      "Jethro Eleazar Attapary\n"
     ]
    }
   ],
   "source": [
    "nama_depan ='Jethro '\n",
    "nama_tengah ='Eleazar '\n",
    "nama_belakang = 'Attapary'\n",
    "print(nama_depan + nama_tengah + nama_belakang)"
   ]
  },
  {
   "cell_type": "code",
   "execution_count": 2,
   "id": "ce86a618",
   "metadata": {},
   "outputs": [
    {
     "name": "stdout",
     "output_type": "stream",
     "text": [
      "Rehuella Desta Christy\n"
     ]
    }
   ],
   "source": [
    "nama_depan ='Rehuella '\n",
    "nama_tengah ='Desta '\n",
    "nama_belakang = 'Christy'\n",
    "print(nama_depan + nama_tengah + nama_belakang)"
   ]
  },
  {
   "cell_type": "code",
   "execution_count": 3,
   "id": "f70797b3",
   "metadata": {},
   "outputs": [
    {
     "name": "stdout",
     "output_type": "stream",
     "text": [
      "2021\n",
      "2108541010\n"
     ]
    }
   ],
   "source": [
    "mahasiswa = 2021\n",
    "dengan_nim = 2108541010\n",
    "print(mahasiswa)\n",
    "print(dengan_nim)"
   ]
  },
  {
   "cell_type": "code",
   "execution_count": 7,
   "id": "0cfbfe13",
   "metadata": {},
   "outputs": [
    {
     "name": "stdout",
     "output_type": "stream",
     "text": [
      "Rehuella Desta Christy Matematika 2108541010 Matematika A.\n"
     ]
    }
   ],
   "source": [
    "nama = 'Rehuella Desta Christy '\n",
    "program_studi = 'Matematika '\n",
    "dengan_nim = '2108541010'\n",
    "kelas = ' Matematika A.'\n",
    "print(nama + program_studi + dengan_nim + kelas)"
   ]
  },
  {
   "cell_type": "code",
   "execution_count": 8,
   "id": "bde4cc25",
   "metadata": {},
   "outputs": [
    {
     "name": "stdout",
     "output_type": "stream",
     "text": [
      "Rehuella Desta Christy  Matematika A.2108541010\n"
     ]
    }
   ],
   "source": [
    "print(nama + kelas + dengan_nim)"
   ]
  },
  {
   "cell_type": "code",
   "execution_count": 9,
   "id": "572eb2df",
   "metadata": {},
   "outputs": [
    {
     "name": "stdout",
     "output_type": "stream",
     "text": [
      "berapa nim nya? 2108541010\n"
     ]
    }
   ],
   "source": [
    "print(\"berapa nim nya? \"+ dengan_nim)"
   ]
  },
  {
   "cell_type": "markdown",
   "id": "b6bf958a",
   "metadata": {},
   "source": [
    "# 5.2 Input\n",
    "Perintah input digunakan jika kita ingin mendapatkan informasi dari pengguna"
   ]
  },
  {
   "cell_type": "code",
   "execution_count": 10,
   "id": "458cab76",
   "metadata": {},
   "outputs": [
    {
     "name": "stdout",
     "output_type": "stream",
     "text": [
      "Siapakah nama anda?Rehuella Desta Christy\n",
      "Apakah kegiatan anda sekarang, Rehuella Desta Christy? Belajar\n",
      "Semangat Belajar nya yah, Rehuella Desta Christy!\n"
     ]
    }
   ],
   "source": [
    "nama = input(\"Siapakah nama anda?\")\n",
    "kegiatan = input('Apakah kegiatan anda sekarang, ' + nama +\"? \")\n",
    "print(\"Semangat \"+ kegiatan +\" nya yah, \" + nama + \"!\")"
   ]
  },
  {
   "cell_type": "code",
   "execution_count": 14,
   "id": "c5bbcdb3",
   "metadata": {},
   "outputs": [
    {
     "name": "stdout",
     "output_type": "stream",
     "text": [
      "Siapakah nama anda? Rehuella Desta Christy \n",
      "Apa status anda sekarang, Rehuella Desta Christy ? Mahasiswa\n",
      "Mahasiswa dimana Rehuella Desta Christy ? Universitas Udayana\n",
      "Rehuella Desta Christy  merupakan Mahasiswa di Universitas Udayana. \n"
     ]
    }
   ],
   "source": [
    "nama = input(\"Siapakah nama anda? \")\n",
    "status = input(\"Apa status anda sekarang, \" + nama +\"? \" )\n",
    "mahasiswa = input(\"Mahasiswa dimana \" + nama + \"? \")\n",
    "print(nama +\" merupakan \" + status +\" di \" + mahasiswa + \". \")"
   ]
  },
  {
   "cell_type": "code",
   "execution_count": 15,
   "id": "06f5bca9",
   "metadata": {},
   "outputs": [
    {
     "name": "stdout",
     "output_type": "stream",
     "text": [
      "Siapakah nama lengkap anda? Rehuella Desta Christy\n",
      "Siapa nama panggilan anda? Rahel\n",
      "Berapa nim kamu? 2108541010\n",
      "Rehuella Desta ChristyRahel dengan nim 2108541010\n"
     ]
    }
   ],
   "source": [
    "nama_lengkap = input(\"Siapakah nama lengkap anda? \")\n",
    "nama = input(\"Siapa nama panggilan anda? \")\n",
    "nim = input(\"Berapa nim kamu? \")\n",
    "print(nama_lengkap + nama + \" dengan nim \" + nim )"
   ]
  },
  {
   "cell_type": "markdown",
   "id": "d6e1f0e9",
   "metadata": {},
   "source": [
    "# 5.3 Tipe Data pada Python\n",
    "Terdapat tiga tipe data pada python"
   ]
  },
  {
   "cell_type": "code",
   "execution_count": 16,
   "id": "0ff84090",
   "metadata": {},
   "outputs": [
    {
     "name": "stdout",
     "output_type": "stream",
     "text": [
      "Rahel\n"
     ]
    }
   ],
   "source": [
    "a = \"Rahel\"\n",
    "print (a)"
   ]
  },
  {
   "cell_type": "code",
   "execution_count": 21,
   "id": "9ce61a65",
   "metadata": {},
   "outputs": [
    {
     "name": "stdout",
     "output_type": "stream",
     "text": [
      "8\n"
     ]
    }
   ],
   "source": [
    "d = 8**1\n",
    "print(d)"
   ]
  },
  {
   "cell_type": "code",
   "execution_count": 22,
   "id": "db1da41c",
   "metadata": {},
   "outputs": [
    {
     "name": "stdout",
     "output_type": "stream",
     "text": [
      "Masukkan bilangan pertama anda: 2\n",
      "Masukkan bilangan kedua anda: 4\n",
      "6.0\n"
     ]
    }
   ],
   "source": [
    "bilangan_satu = input (\"Masukkan bilangan pertama anda: \")\n",
    "bilangan_kedua = input (\"Masukkan bilangan kedua anda: \")\n",
    "\n",
    "jumlah_bilangan = float(bilangan_satu) + float(bilangan_kedua)\n",
    "\n",
    "print (jumlah_bilangan)"
   ]
  },
  {
   "cell_type": "code",
   "execution_count": 23,
   "id": "52466966",
   "metadata": {},
   "outputs": [
    {
     "name": "stdout",
     "output_type": "stream",
     "text": [
      "Berapakah jumlah uang di dompe anda? 50000\n",
      "Berapakah jumlah uang anda di Bank? 1000000\n",
      "Total uang anda adalah Rp 1050000\n"
     ]
    }
   ],
   "source": [
    "uang_di_dompet = input(\"Berapakah jumlah uang di dompe anda? \")\n",
    "uang_di_bank = input(\"Berapakah jumlah uang anda di Bank? \")\n",
    "total_uang = int(uang_di_dompet) + int(uang_di_bank)\n",
    "print(\"Total uang anda adalah Rp \"+ str(total_uang))"
   ]
  },
  {
   "cell_type": "code",
   "execution_count": 24,
   "id": "55fe5f04",
   "metadata": {},
   "outputs": [
    {
     "name": "stdout",
     "output_type": "stream",
     "text": [
      "Masukkan bilangan pertama anda: 2\n",
      "Masukkan bilangan kedua anda: 4\n",
      "Masukkan bilangan ketiga anda: 6\n",
      "12.0\n"
     ]
    }
   ],
   "source": [
    "bilangan_satu = input (\"Masukkan bilangan pertama anda: \")\n",
    "bilangan_kedua = input (\"Masukkan bilangan kedua anda: \")\n",
    "bilangan_ketiga = input (\"Masukkan bilangan ketiga anda: \")\n",
    "\n",
    "jumlah_bilangan = float(bilangan_satu) + float(bilangan_kedua) + float(bilangan_ketiga)\n",
    "\n",
    "print (jumlah_bilangan)"
   ]
  },
  {
   "cell_type": "code",
   "execution_count": 25,
   "id": "163d5b9d",
   "metadata": {},
   "outputs": [
    {
     "name": "stdout",
     "output_type": "stream",
     "text": [
      "Tahun berapa sekarang? 2022\n",
      "Tahun berapa anda lahir? 2003\n",
      "Umur anda sekarang adalah 19\n"
     ]
    }
   ],
   "source": [
    "tahun_sekarang = input(\"Tahun berapa sekarang? \")\n",
    "tahun_lahir = input(\"Tahun berapa anda lahir? \")\n",
    "umur_sekarang = int(tahun_sekarang) - int(tahun_lahir)\n",
    "print(\"Umur anda sekarang adalah \"+ str(umur_sekarang))"
   ]
  },
  {
   "cell_type": "code",
   "execution_count": 26,
   "id": "689ef956",
   "metadata": {},
   "outputs": [
    {
     "name": "stdout",
     "output_type": "stream",
     "text": [
      "Siapa nama anda? Rahel\n",
      "Tahun berapa kuliah? 2021\n",
      "Tahun berapa anda akan lulus? 2025\n",
      "Rahel akan lulus kuliah 4 tahun lagi, semangat! \n"
     ]
    }
   ],
   "source": [
    "nama = input(\"Siapa nama anda? \")\n",
    "awal_kuliah = input(\"Tahun berapa kuliah? \")\n",
    "tahun_lulus = input(\"Tahun berapa anda akan lulus? \")\n",
    "tahun_kuliah = int(tahun_lulus) - int(awal_kuliah)\n",
    "print((nama) + \" akan lulus kuliah \"+ str(tahun_kuliah) + \" tahun lagi, semangat! \")"
   ]
  },
  {
   "cell_type": "markdown",
   "id": "f67806e8",
   "metadata": {},
   "source": [
    "# Latihan\n",
    "Buat program penjumlahan dua bilangan dengan menggunakan perintah INPUT dan PRINT."
   ]
  },
  {
   "cell_type": "code",
   "execution_count": 31,
   "id": "074e4834",
   "metadata": {},
   "outputs": [
    {
     "name": "stdout",
     "output_type": "stream",
     "text": [
      "Masukkan bilangan pertama anda: 20\n",
      "Masukkan bilangan kedua anda: 40\n",
      "Jumlah kedua bilangan adalah 60.0\n"
     ]
    }
   ],
   "source": [
    "bilangan_satu = input (\"Masukkan bilangan pertama anda: \")\n",
    "bilangan_kedua = input (\"Masukkan bilangan kedua anda: \")\n",
    "\n",
    "jumlah = float(bilangan_satu) + float(bilangan_kedua)\n",
    "\n",
    "print(\"Jumlah kedua bilangan adalah \" + str (jumlah))"
   ]
  },
  {
   "cell_type": "code",
   "execution_count": 32,
   "id": "201dfb9d",
   "metadata": {},
   "outputs": [
    {
     "name": "stdout",
     "output_type": "stream",
     "text": [
      "Masukkan bilangan pertama anda: 25\n",
      "Masukkan bilangan kedua anda: 35\n",
      "Masukkan bilangan ketiga anda: 40\n",
      "100.0\n"
     ]
    }
   ],
   "source": [
    "bilangan_satu = input (\"Masukkan bilangan pertama anda: \")\n",
    "bilangan_kedua = input (\"Masukkan bilangan kedua anda: \")\n",
    "bilangan_ketiga = input (\"Masukkan bilangan ketiga anda: \")\n",
    "\n",
    "jumlah_bilangan = float(bilangan_satu) + float(bilangan_kedua) + float(bilangan_ketiga)\n",
    "\n",
    "print (jumlah_bilangan)"
   ]
  },
  {
   "cell_type": "code",
   "execution_count": 33,
   "id": "658df84b",
   "metadata": {},
   "outputs": [
    {
     "name": "stdout",
     "output_type": "stream",
     "text": [
      "Masukkan bilangan pertama anda: 100\n",
      "Masukkan bilangan kedua anda: 250\n",
      "Masukkan bilangan ketiga anda: 50\n",
      "Jumlah ketiga bilangan adalah 400.0\n"
     ]
    }
   ],
   "source": [
    "bilangan_satu = input (\"Masukkan bilangan pertama anda: \")\n",
    "bilangan_kedua = input (\"Masukkan bilangan kedua anda: \")\n",
    "bilangan_ketiga = input (\"Masukkan bilangan ketiga anda: \")\n",
    "\n",
    "jumlah_bilangan = float(bilangan_satu) + float(bilangan_kedua) + float(bilangan_ketiga)\n",
    "\n",
    "print (\"Jumlah ketiga bilangan adalah \" + str(jumlah_bilangan))"
   ]
  },
  {
   "cell_type": "markdown",
   "id": "46b479a6",
   "metadata": {},
   "source": [
    "# 5.4 Formatted String\n",
    "Formatted string digunakan untuk mempermudah penulisan nilai variabel yang ingin dicetak pada perintah print."
   ]
  },
  {
   "cell_type": "code",
   "execution_count": 1,
   "id": "02aa944a",
   "metadata": {},
   "outputs": [
    {
     "name": "stdout",
     "output_type": "stream",
     "text": [
      "Nama anda adalah Rahel\n",
      "status anda adalah mahasiswa\n",
      "Institusi anda adalah Unversitas Uadayana\n",
      "Nama saya adalah Rahel. Saya bekerja sebagai mahasiswa di Unversitas Uadayana.\n"
     ]
    }
   ],
   "source": [
    "nama = input(\"Nama anda adalah \")\n",
    "pekerjaan = input(\"status anda adalah \")\n",
    "institusi = input(\"Institusi anda adalah \")\n",
    "\n",
    "print(\"Nama saya adalah \" + nama +\". Saya bekerja sebagai \"+ pekerjaan +\" di \"+ institusi + \".\")"
   ]
  },
  {
   "cell_type": "code",
   "execution_count": 2,
   "id": "6c229634",
   "metadata": {},
   "outputs": [
    {
     "name": "stdout",
     "output_type": "stream",
     "text": [
      "Nama saya adalah Rahel. Saya bekerja sebagai mahasiswa di Unversitas Uadayana. \n"
     ]
    }
   ],
   "source": [
    "print(f\"Nama saya adalah {nama}. Saya bekerja sebagai {pekerjaan} di {institusi}. \")"
   ]
  },
  {
   "cell_type": "code",
   "execution_count": 3,
   "id": "0e07797e",
   "metadata": {},
   "outputs": [
    {
     "name": "stdout",
     "output_type": "stream",
     "text": [
      "Susan adalah seorang Dokter di RS Sanglah.\n"
     ]
    }
   ],
   "source": [
    "nama = \"Susan\"\n",
    "pekerjaan = 'Dokter'\n",
    "institusi = 'RS Sanglah'\n",
    "print(nama + ' adalah seorang ' + pekerjaan + ' di ' + institusi +'.')"
   ]
  },
  {
   "cell_type": "code",
   "execution_count": 4,
   "id": "902e77f0",
   "metadata": {},
   "outputs": [
    {
     "name": "stdout",
     "output_type": "stream",
     "text": [
      "Susan adalah seorang Dokter di RS Sanglah.\n"
     ]
    }
   ],
   "source": [
    "print(f\"{nama} adalah seorang {pekerjaan} di {institusi}.\")"
   ]
  },
  {
   "cell_type": "code",
   "execution_count": 12,
   "id": "c915cf29",
   "metadata": {},
   "outputs": [
    {
     "name": "stdout",
     "output_type": "stream",
     "text": [
      "Rehuella Desta Christy dengan nim 2108541010 di Algoritma dan Struktur Data.\n"
     ]
    }
   ],
   "source": [
    "nama = \"Rehuella Desta Christy\"\n",
    "nim = '2108541010'\n",
    "kelas = 'Matematika A'\n",
    "matkul = 'Algoritma dan Struktur Data'\n",
    "print(nama + ' dengan nim ' + nim + ' di ' + matkul +'.')"
   ]
  },
  {
   "cell_type": "code",
   "execution_count": 13,
   "id": "dd64e720",
   "metadata": {},
   "outputs": [
    {
     "name": "stdout",
     "output_type": "stream",
     "text": [
      "saya Rehuella Desta Christy dengan nim 2108541010 dan kelas Matematika A izin mengumpulkan tugas Algoritma dan Struktur Data terimakasi.\n"
     ]
    }
   ],
   "source": [
    "print(f'saya {nama} dengan nim {nim} dan kelas {kelas} izin mengumpulkan tugas {matkul} terimakasi.')"
   ]
  },
  {
   "cell_type": "markdown",
   "id": "e9a4c9e6",
   "metadata": {},
   "source": [
    "# 5.5 Strings Index\n",
    "Variabel berupa string dapat diurutkan dengan index yang dimulai dari 0. "
   ]
  },
  {
   "cell_type": "code",
   "execution_count": 5,
   "id": "d7491cce",
   "metadata": {},
   "outputs": [],
   "source": [
    "kelas = 'ini kelas algoritma'"
   ]
  },
  {
   "cell_type": "code",
   "execution_count": 6,
   "id": "38c00e69",
   "metadata": {},
   "outputs": [
    {
     "name": "stdout",
     "output_type": "stream",
     "text": [
      "ini kelas algoritma\n"
     ]
    }
   ],
   "source": [
    "print(kelas [0:20])"
   ]
  },
  {
   "cell_type": "code",
   "execution_count": 11,
   "id": "89830a76",
   "metadata": {},
   "outputs": [
    {
     "name": "stdout",
     "output_type": "stream",
     "text": [
      "kelas algo\n"
     ]
    }
   ],
   "source": [
    "print(kelas[4:-5])"
   ]
  },
  {
   "cell_type": "code",
   "execution_count": 13,
   "id": "6e37fd50",
   "metadata": {},
   "outputs": [
    {
     "name": "stdout",
     "output_type": "stream",
     "text": [
      "ali\n"
     ]
    }
   ],
   "source": [
    "print(kelas[7:-1:4])"
   ]
  },
  {
   "cell_type": "code",
   "execution_count": 14,
   "id": "2fb38b69",
   "metadata": {},
   "outputs": [
    {
     "name": "stdout",
     "output_type": "stream",
     "text": [
      "ini kelas algoritma\n"
     ]
    }
   ],
   "source": [
    "print(kelas[:])"
   ]
  },
  {
   "cell_type": "code",
   "execution_count": 16,
   "id": "5b3d5a9e",
   "metadata": {},
   "outputs": [],
   "source": [
    "universitas = 'udayana'"
   ]
  },
  {
   "cell_type": "code",
   "execution_count": 17,
   "id": "dc00297b",
   "metadata": {},
   "outputs": [
    {
     "name": "stdout",
     "output_type": "stream",
     "text": [
      "udayana\n"
     ]
    }
   ],
   "source": [
    "print(universitas[:])"
   ]
  },
  {
   "cell_type": "code",
   "execution_count": 21,
   "id": "42cdd68f",
   "metadata": {},
   "outputs": [],
   "source": [
    "nama = 'Rehuella Desta Christy'\n",
    "nim = '2108541010'"
   ]
  },
  {
   "cell_type": "code",
   "execution_count": 22,
   "id": "02b98d7f",
   "metadata": {},
   "outputs": [
    {
     "name": "stdout",
     "output_type": "stream",
     "text": [
      "Rehuella Desta Christy2108541010\n"
     ]
    }
   ],
   "source": [
    "print(nama + nim [:])"
   ]
  },
  {
   "cell_type": "code",
   "execution_count": 23,
   "id": "c5867228",
   "metadata": {},
   "outputs": [
    {
     "name": "stdout",
     "output_type": "stream",
     "text": [
      "Rehuella Desta Christy 010\n"
     ]
    }
   ],
   "source": [
    "print((nama ) + \" \" + nim [7:])"
   ]
  },
  {
   "cell_type": "markdown",
   "id": "92b88d3a",
   "metadata": {},
   "source": [
    "# 5.6 Strings Methods\n",
    "Ada beberapa methoda yang banyak digunakan pada variabel berjenis string."
   ]
  },
  {
   "cell_type": "code",
   "execution_count": 24,
   "id": "f6119157",
   "metadata": {},
   "outputs": [],
   "source": [
    "judul = 'candy shop'"
   ]
  },
  {
   "cell_type": "code",
   "execution_count": 25,
   "id": "218c7b7f",
   "metadata": {},
   "outputs": [
    {
     "name": "stdout",
     "output_type": "stream",
     "text": [
      "10\n"
     ]
    }
   ],
   "source": [
    "print(len(judul))"
   ]
  },
  {
   "cell_type": "code",
   "execution_count": 26,
   "id": "73525623",
   "metadata": {},
   "outputs": [
    {
     "data": {
      "text/plain": [
       "'CANDY SHOP'"
      ]
     },
     "execution_count": 26,
     "metadata": {},
     "output_type": "execute_result"
    }
   ],
   "source": [
    "judul.upper()"
   ]
  },
  {
   "cell_type": "code",
   "execution_count": 27,
   "id": "d7b7a0c1",
   "metadata": {},
   "outputs": [
    {
     "data": {
      "text/plain": [
       "6"
      ]
     },
     "execution_count": 27,
     "metadata": {},
     "output_type": "execute_result"
    }
   ],
   "source": [
    "judul.find('shop')"
   ]
  },
  {
   "cell_type": "code",
   "execution_count": 28,
   "id": "8e48f6c3",
   "metadata": {},
   "outputs": [
    {
     "data": {
      "text/plain": [
       "'candy shop'"
      ]
     },
     "execution_count": 28,
     "metadata": {},
     "output_type": "execute_result"
    }
   ],
   "source": [
    "judul.lower()"
   ]
  },
  {
   "cell_type": "code",
   "execution_count": 29,
   "id": "eb3fcfa9",
   "metadata": {},
   "outputs": [
    {
     "name": "stdout",
     "output_type": "stream",
     "text": [
      "True\n"
     ]
    }
   ],
   "source": [
    "print('candy' in judul)"
   ]
  },
  {
   "cell_type": "code",
   "execution_count": 30,
   "id": "254f4710",
   "metadata": {},
   "outputs": [
    {
     "name": "stdout",
     "output_type": "stream",
     "text": [
      "False\n"
     ]
    }
   ],
   "source": [
    "print('Shop' in judul)"
   ]
  },
  {
   "cell_type": "markdown",
   "id": "1c992a39",
   "metadata": {},
   "source": [
    "# 5.7 Operasi Matematika di Python\n",
    "Terdapat operasi matematika di Python."
   ]
  },
  {
   "cell_type": "code",
   "execution_count": 32,
   "id": "383ccea0",
   "metadata": {},
   "outputs": [
    {
     "name": "stdout",
     "output_type": "stream",
     "text": [
      "30\n",
      "10\n",
      "4\n",
      "3.5\n",
      "2\n",
      "1\n",
      "16\n",
      "4\n",
      "2\n",
      "8\n"
     ]
    }
   ],
   "source": [
    "print(10+20)\n",
    "print(15-5)\n",
    "print(2*2)\n",
    "print(7/2)\n",
    "print(7//3)\n",
    "print(7%3)\n",
    "print(2**4)\n",
    "x=3\n",
    "x+=1\n",
    "print(x)\n",
    "x-=2\n",
    "print(x)\n",
    "x*=4\n",
    "print(x)"
   ]
  },
  {
   "cell_type": "code",
   "execution_count": 33,
   "id": "c7bac21a",
   "metadata": {},
   "outputs": [
    {
     "name": "stdout",
     "output_type": "stream",
     "text": [
      "40\n"
     ]
    }
   ],
   "source": [
    "x = 40\n",
    "print(x)"
   ]
  },
  {
   "cell_type": "code",
   "execution_count": 34,
   "id": "f24f0e44",
   "metadata": {},
   "outputs": [
    {
     "name": "stdout",
     "output_type": "stream",
     "text": [
      "44\n"
     ]
    }
   ],
   "source": [
    "x = x + 4\n",
    "print(x)"
   ]
  },
  {
   "cell_type": "code",
   "execution_count": 35,
   "id": "fc997179",
   "metadata": {},
   "outputs": [
    {
     "name": "stdout",
     "output_type": "stream",
     "text": [
      "39\n"
     ]
    }
   ],
   "source": [
    "x = x - 5\n",
    "print(x)"
   ]
  },
  {
   "cell_type": "code",
   "execution_count": 38,
   "id": "50e55405",
   "metadata": {},
   "outputs": [
    {
     "name": "stdout",
     "output_type": "stream",
     "text": [
      "3518743761\n"
     ]
    }
   ],
   "source": [
    "x = x**3\n",
    "print(x)"
   ]
  },
  {
   "cell_type": "code",
   "execution_count": 37,
   "id": "8611e01d",
   "metadata": {},
   "outputs": [
    {
     "name": "stdout",
     "output_type": "stream",
     "text": [
      "1521\n"
     ]
    }
   ],
   "source": [
    "x = x*1\n",
    "print(x)"
   ]
  },
  {
   "cell_type": "code",
   "execution_count": 39,
   "id": "4a10847d",
   "metadata": {},
   "outputs": [
    {
     "name": "stdout",
     "output_type": "stream",
     "text": [
      "0\n"
     ]
    }
   ],
   "source": [
    "x *=0\n",
    "print(x)"
   ]
  },
  {
   "cell_type": "code",
   "execution_count": 41,
   "id": "08cb65b0",
   "metadata": {},
   "outputs": [
    {
     "name": "stdout",
     "output_type": "stream",
     "text": [
      "60\n"
     ]
    }
   ],
   "source": [
    "x +=40\n",
    "print(x)"
   ]
  },
  {
   "cell_type": "code",
   "execution_count": 42,
   "id": "acd1e36f",
   "metadata": {},
   "outputs": [
    {
     "name": "stdout",
     "output_type": "stream",
     "text": [
      "60\n"
     ]
    }
   ],
   "source": [
    "x %=100\n",
    "print(x)"
   ]
  },
  {
   "cell_type": "code",
   "execution_count": 43,
   "id": "2c2a6a42",
   "metadata": {},
   "outputs": [
    {
     "name": "stdout",
     "output_type": "stream",
     "text": [
      "30\n"
     ]
    }
   ],
   "source": [
    "x //= 2\n",
    "print(x)"
   ]
  },
  {
   "cell_type": "markdown",
   "id": "b9e972b0",
   "metadata": {},
   "source": [
    "# 5.8 Operator Perbandingan di Python\n",
    "Beberapa operator perbandingan pada python."
   ]
  },
  {
   "cell_type": "code",
   "execution_count": 45,
   "id": "cbecf415",
   "metadata": {},
   "outputs": [
    {
     "name": "stdout",
     "output_type": "stream",
     "text": [
      "True\n",
      "True\n",
      "True\n",
      "True\n"
     ]
    }
   ],
   "source": [
    "x = 4>1\n",
    "print(x)\n",
    "x = 3<6\n",
    "print(x)\n",
    "x = 3 >= 2\n",
    "print(x)\n",
    "x = 2 <= 3\n",
    "print(x)"
   ]
  },
  {
   "cell_type": "code",
   "execution_count": 46,
   "id": "c0ba4296",
   "metadata": {},
   "outputs": [
    {
     "name": "stdout",
     "output_type": "stream",
     "text": [
      "False\n",
      "False\n",
      "False\n"
     ]
    }
   ],
   "source": [
    "y = 3>4\n",
    "print(y)\n",
    "y = 3<2\n",
    "print(y)\n",
    "y = 2 == 3\n",
    "print (y)"
   ]
  },
  {
   "cell_type": "code",
   "execution_count": 47,
   "id": "5f224487",
   "metadata": {},
   "outputs": [
    {
     "name": "stdout",
     "output_type": "stream",
     "text": [
      "True\n"
     ]
    }
   ],
   "source": [
    "a = 10 > 8\n",
    "print(a)"
   ]
  },
  {
   "cell_type": "code",
   "execution_count": 48,
   "id": "d5980341",
   "metadata": {},
   "outputs": [
    {
     "name": "stdout",
     "output_type": "stream",
     "text": [
      "False\n"
     ]
    }
   ],
   "source": [
    "a = 10!=10\n",
    "print(a)"
   ]
  },
  {
   "cell_type": "markdown",
   "id": "07d9db6a",
   "metadata": {},
   "source": [
    "# 5.9 Operator Logika di Python\n",
    "Beberapa operator logika pada Python adalah and, or and not. Operator and akan bernilai True jika kedua nilainya adalah True, \n",
    "sedangkan operator or akan bernilai True jika salah satu nilainya adalah True. Operator not akan menghasilkan nilai berlawanan."
   ]
  },
  {
   "cell_type": "code",
   "execution_count": 49,
   "id": "c1426d82",
   "metadata": {},
   "outputs": [
    {
     "name": "stdout",
     "output_type": "stream",
     "text": [
      "True\n"
     ]
    }
   ],
   "source": [
    "sayur_pepaya = 10\n",
    "sayur_bayam =15\n",
    "print(sayur_bayam > 8 and sayur_pepaya < 20)"
   ]
  },
  {
   "cell_type": "code",
   "execution_count": 50,
   "id": "b645900b",
   "metadata": {},
   "outputs": [
    {
     "name": "stdout",
     "output_type": "stream",
     "text": [
      "True\n"
     ]
    }
   ],
   "source": [
    "print (sayur_bayam < 8 or sayur_pepaya < 20)"
   ]
  },
  {
   "cell_type": "code",
   "execution_count": 51,
   "id": "69eddff4",
   "metadata": {},
   "outputs": [
    {
     "name": "stdout",
     "output_type": "stream",
     "text": [
      "False\n"
     ]
    }
   ],
   "source": [
    "print(sayur_bayam < 8 or sayur_pepaya > 20)"
   ]
  },
  {
   "cell_type": "code",
   "execution_count": 52,
   "id": "e25e4267",
   "metadata": {},
   "outputs": [
    {
     "name": "stdout",
     "output_type": "stream",
     "text": [
      "True\n"
     ]
    }
   ],
   "source": [
    "print(not (sayur_bayam < 8 or sayur_pepaya > 20))"
   ]
  },
  {
   "cell_type": "code",
   "execution_count": 53,
   "id": "c52479ff",
   "metadata": {},
   "outputs": [
    {
     "name": "stdout",
     "output_type": "stream",
     "text": [
      "False\n"
     ]
    }
   ],
   "source": [
    "ayam = 15 \n",
    "bebek = 20 \n",
    "print(ayam < 15 and bebek > 10)"
   ]
  },
  {
   "cell_type": "code",
   "execution_count": 54,
   "id": "ae081810",
   "metadata": {},
   "outputs": [
    {
     "name": "stdout",
     "output_type": "stream",
     "text": [
      "False\n"
     ]
    }
   ],
   "source": [
    "print(not (ayam > 17 or bebek > 19))"
   ]
  },
  {
   "cell_type": "markdown",
   "id": "7b0be671",
   "metadata": {},
   "source": [
    "# 5.10 Operator if di Python\n",
    "Operator if akan dijalankan apabila nilai variabel yang dijalankan adalah True."
   ]
  },
  {
   "cell_type": "code",
   "execution_count": 56,
   "id": "a7416bc0",
   "metadata": {},
   "outputs": [
    {
     "name": "stdout",
     "output_type": "stream",
     "text": [
      "Nilai anda adalah 85\n",
      "Anda mendapatkan nilai A\n",
      "Bagus sekali selamat\n"
     ]
    }
   ],
   "source": [
    "nilai = float(input(\"Nilai anda adalah \"))\n",
    "if nilai >= 80:\n",
    "    print(\"Anda mendapatkan nilai A\")\n",
    "    print(\"Bagus sekali selamat\")\n",
    "if nilai < 80 and nilai >= 70:\n",
    "    print(\"Anda mendapatkan nilai B\")\n",
    "    print(\"Tingkatkan prestasimu!\")\n",
    "if nilai >= 60 and nilai < 70:\n",
    "    print(\"Anda mendapatkan nilai C\")\n",
    "    print(\"Lain kali musti lebih baik\")\n",
    "if nilai >= 50 and nilai < 60:\n",
    "    print(\"Anda mendapatkan nilai D\")\n",
    "    print(\"Ulang lagi tahun depan\")\n",
    "if nilai < 50:\n",
    "    print(\"Anda mendapatkan nilai E\")\n",
    "    print(\"Sampai jumpa tahun depan\")"
   ]
  },
  {
   "cell_type": "code",
   "execution_count": 57,
   "id": "55c90d2c",
   "metadata": {},
   "outputs": [
    {
     "name": "stdout",
     "output_type": "stream",
     "text": [
      "Nilai anda adalah 65\n",
      "Anda mendapatkan nilai C\n",
      "Lain kali musti lebih baik\n"
     ]
    }
   ],
   "source": [
    "nilai = float(input(\"Nilai anda adalah \"))\n",
    "if nilai >= 80:\n",
    "    print(\"Anda mendapatkan nilai A\")\n",
    "    print(\"Bagus sekali selamat\")\n",
    "if nilai < 80 and nilai >= 70:\n",
    "    print(\"Anda mendapatkan nilai B\")\n",
    "    print(\"Tingkatkan prestasimu!\")\n",
    "if nilai >= 60 and nilai < 70:\n",
    "    print(\"Anda mendapatkan nilai C\")\n",
    "    print(\"Lain kali musti lebih baik\")\n",
    "if nilai >= 50 and nilai < 60:\n",
    "    print(\"Anda mendapatkan nilai D\")\n",
    "    print(\"Ulang lagi tahun depan\")\n",
    "if nilai < 50:\n",
    "    print(\"Anda mendapatkan nilai E\")\n",
    "    print(\"Sampai jumpa tahun depan\")\n"
   ]
  },
  {
   "cell_type": "code",
   "execution_count": 58,
   "id": "18bd72f6",
   "metadata": {},
   "outputs": [
    {
     "name": "stdout",
     "output_type": "stream",
     "text": [
      "Umur anda adalah 19\n",
      "Anda sudah remaja dan akan dewasa\n"
     ]
    }
   ],
   "source": [
    "nilai = float(input(\"Umur anda adalah \"))\n",
    "if nilai >= 25:\n",
    "    print(\"Anda sudah dewasa\")\n",
    "elif nilai >= 17:\n",
    "    print(\"Anda sudah remaja dan akan dewasa\")\n",
    "elif nilai >=5:\n",
    "    print(\"Anda masih anak anak\")"
   ]
  },
  {
   "cell_type": "markdown",
   "id": "e80247d4",
   "metadata": {},
   "source": [
    "# Latihan\n",
    "Buatlah program yang merubah tinggi badan seseorang dari cm ke inci atau sebaliknya dari inci ke cm."
   ]
  },
  {
   "cell_type": "code",
   "execution_count": 1,
   "id": "5a826963",
   "metadata": {},
   "outputs": [
    {
     "name": "stdout",
     "output_type": "stream",
     "text": [
      "Berapkah tinggi anda? 160\n",
      "Tingginya dalam cm atau inci? cm\n",
      "Tinggi anda adalah 62.992160000000005 inci\n"
     ]
    }
   ],
   "source": [
    "tinggi = float(input(\"Berapkah tinggi anda? \"))\n",
    "cm_atau_inci = input(\"Tingginya dalam cm atau inci? \")\n",
    "if cm_atau_inci.upper() == 'CM':\n",
    "    tinggi = tinggi*0.393701\n",
    "    print(\"Tinggi anda adalah \" + str(tinggi) + \" inci\")\n",
    "elif cm_atau_inci.upper() == 'INCI':\n",
    "    tinggi = tinggi/0.393701\n",
    "    print(f\"Tinggi anda adalah {tinggi} cm\")"
   ]
  },
  {
   "cell_type": "code",
   "execution_count": 5,
   "id": "e38093db",
   "metadata": {},
   "outputs": [
    {
     "name": "stdout",
     "output_type": "stream",
     "text": [
      "Berapkah tinggi Rahel? 159\n",
      "Tingginya dalam cm atau inci? inci\n",
      "Tinggi Rahel adalah 403.85978191571775 cm\n"
     ]
    }
   ],
   "source": [
    "tinggi = float(input(\"Berapkah tinggi Rahel? \"))\n",
    "cm_atau_inci = input(\"Tingginya dalam cm atau inci? \")\n",
    "if cm_atau_inci.upper() == 'CM':\n",
    "    tinggi = tinggi*0.393701\n",
    "    print(\"Tinggi Rahel adalah \" + str(tinggi) + \" inci\")\n",
    "elif cm_atau_inci.upper() == 'INCI':\n",
    "    tinggi = tinggi/0.393701\n",
    "    print(f\"Tinggi Rahel adalah {tinggi} cm\")"
   ]
  },
  {
   "cell_type": "code",
   "execution_count": null,
   "id": "664a7bdb",
   "metadata": {},
   "outputs": [],
   "source": []
  },
  {
   "cell_type": "markdown",
   "id": "7eabe1e0",
   "metadata": {},
   "source": [
    "# 5.11 While loop\n",
    "While loop akan selalu dieksekusi selama nilainya True dan akan berhenti saat nilainya menjadi False. "
   ]
  },
  {
   "cell_type": "code",
   "execution_count": 1,
   "id": "aa204bff",
   "metadata": {},
   "outputs": [
    {
     "name": "stdout",
     "output_type": "stream",
     "text": [
      "Angka 0 masih dibawah 10\n",
      "Angka 1 masih dibawah 10\n",
      "Angka 2 masih dibawah 10\n",
      "Angka 3 masih dibawah 10\n",
      "Angka 4 masih dibawah 10\n",
      "Angka 5 masih dibawah 10\n",
      "Angka 6 masih dibawah 10\n",
      "Angka 7 masih dibawah 10\n",
      "Angka 8 masih dibawah 10\n",
      "Angka 9 masih dibawah 10\n"
     ]
    }
   ],
   "source": [
    "a = 0 \n",
    "while a < 10:\n",
    "    print(\"Angka \" + str(a)+\" masih dibawah 10\")\n",
    "    a += 1"
   ]
  },
  {
   "cell_type": "code",
   "execution_count": 2,
   "id": "b085dcb6",
   "metadata": {},
   "outputs": [
    {
     "name": "stdout",
     "output_type": "stream",
     "text": [
      "\n",
      "*\n",
      "**\n",
      "***\n",
      "****\n",
      "*****\n",
      "******\n"
     ]
    }
   ],
   "source": [
    "a = 0\n",
    "while a < 7:\n",
    "    print(a * '*')\n",
    "    a += 1"
   ]
  },
  {
   "cell_type": "code",
   "execution_count": 3,
   "id": "e670fc2e",
   "metadata": {},
   "outputs": [
    {
     "name": "stdout",
     "output_type": "stream",
     "text": [
      "0 kamu  pasti bisa. \n",
      "1 kamu  pasti bisa. \n",
      "2 kamu  pasti bisa. \n",
      "3 kamu  pasti bisa. \n",
      "4 kamu  pasti bisa. \n",
      "5 kamu  pasti bisa. \n"
     ]
    }
   ],
   "source": [
    "a = 0 \n",
    "while a <= 5:\n",
    "    print(str(a) + \" kamu \" + \" pasti bisa. \")\n",
    "    a += 1"
   ]
  },
  {
   "cell_type": "code",
   "execution_count": 6,
   "id": "7239ea35",
   "metadata": {},
   "outputs": [
    {
     "name": "stdout",
     "output_type": "stream",
     "text": [
      "1Rehuella Desta Christy  dengan nim 2108541010\n"
     ]
    }
   ],
   "source": [
    "a = 1 \n",
    "while a < 2:\n",
    "    print(str(a) + \"Rehuella Desta Christy \" + \" dengan nim 2108541010\")\n",
    "    a += 1"
   ]
  },
  {
   "cell_type": "code",
   "execution_count": 7,
   "id": "984a5f51",
   "metadata": {},
   "outputs": [
    {
     "name": "stdout",
     "output_type": "stream",
     "text": [
      "\n",
      "^\n",
      "^^\n",
      "^^^\n",
      "^^^^\n",
      "^^^^^\n",
      "^^^^^^\n",
      "^^^^^^^\n"
     ]
    }
   ],
   "source": [
    "a = 0\n",
    "while a <= 7:\n",
    "    print(a * '^')\n",
    "    a += 1"
   ]
  },
  {
   "cell_type": "code",
   "execution_count": 8,
   "id": "f649c476",
   "metadata": {},
   "outputs": [
    {
     "name": "stdout",
     "output_type": "stream",
     "text": [
      "\n",
      "+\n",
      "++\n",
      "+++\n",
      "++++\n",
      "+++++\n",
      "++++++\n",
      "+++++++\n",
      "++++++++\n",
      "+++++++++\n",
      "++++++++++\n"
     ]
    }
   ],
   "source": [
    "a = 0\n",
    "while a <= 10:\n",
    "    print(a * '+')\n",
    "    a += 1"
   ]
  },
  {
   "cell_type": "code",
   "execution_count": null,
   "id": "ed381a82",
   "metadata": {},
   "outputs": [],
   "source": []
  },
  {
   "cell_type": "code",
   "execution_count": null,
   "id": "c381104e",
   "metadata": {},
   "outputs": [],
   "source": []
  },
  {
   "cell_type": "code",
   "execution_count": null,
   "id": "8e863745",
   "metadata": {},
   "outputs": [],
   "source": []
  },
  {
   "cell_type": "code",
   "execution_count": null,
   "id": "203bc24a",
   "metadata": {},
   "outputs": [],
   "source": []
  },
  {
   "cell_type": "code",
   "execution_count": null,
   "id": "b80d873f",
   "metadata": {},
   "outputs": [],
   "source": []
  },
  {
   "cell_type": "code",
   "execution_count": null,
   "id": "1d9c4099",
   "metadata": {},
   "outputs": [],
   "source": []
  },
  {
   "cell_type": "code",
   "execution_count": null,
   "id": "8ec38a9a",
   "metadata": {},
   "outputs": [],
   "source": []
  },
  {
   "cell_type": "code",
   "execution_count": null,
   "id": "2c5aa3e9",
   "metadata": {},
   "outputs": [],
   "source": []
  },
  {
   "cell_type": "code",
   "execution_count": null,
   "id": "787314d4",
   "metadata": {},
   "outputs": [],
   "source": []
  },
  {
   "cell_type": "code",
   "execution_count": null,
   "id": "f07a02bc",
   "metadata": {},
   "outputs": [],
   "source": []
  },
  {
   "cell_type": "code",
   "execution_count": null,
   "id": "caedbcc6",
   "metadata": {},
   "outputs": [],
   "source": []
  },
  {
   "cell_type": "code",
   "execution_count": null,
   "id": "7822d6cd",
   "metadata": {},
   "outputs": [],
   "source": []
  },
  {
   "cell_type": "code",
   "execution_count": null,
   "id": "df8065e9",
   "metadata": {},
   "outputs": [],
   "source": []
  },
  {
   "cell_type": "code",
   "execution_count": null,
   "id": "c1a9dc5c",
   "metadata": {},
   "outputs": [],
   "source": []
  },
  {
   "cell_type": "code",
   "execution_count": null,
   "id": "36baa81d",
   "metadata": {},
   "outputs": [],
   "source": []
  },
  {
   "cell_type": "code",
   "execution_count": null,
   "id": "925d8020",
   "metadata": {},
   "outputs": [],
   "source": []
  },
  {
   "cell_type": "code",
   "execution_count": null,
   "id": "e26a60cb",
   "metadata": {},
   "outputs": [],
   "source": []
  },
  {
   "cell_type": "code",
   "execution_count": null,
   "id": "a6bb2fec",
   "metadata": {},
   "outputs": [],
   "source": []
  },
  {
   "cell_type": "code",
   "execution_count": null,
   "id": "ea6c3cd8",
   "metadata": {},
   "outputs": [],
   "source": []
  },
  {
   "cell_type": "code",
   "execution_count": null,
   "id": "bf2bed67",
   "metadata": {},
   "outputs": [],
   "source": []
  },
  {
   "cell_type": "code",
   "execution_count": null,
   "id": "34c3ee56",
   "metadata": {},
   "outputs": [],
   "source": []
  },
  {
   "cell_type": "code",
   "execution_count": null,
   "id": "cb306900",
   "metadata": {},
   "outputs": [],
   "source": []
  },
  {
   "cell_type": "code",
   "execution_count": null,
   "id": "d0f9bc50",
   "metadata": {},
   "outputs": [],
   "source": []
  },
  {
   "cell_type": "code",
   "execution_count": null,
   "id": "21404ceb",
   "metadata": {},
   "outputs": [],
   "source": []
  },
  {
   "cell_type": "code",
   "execution_count": null,
   "id": "4b0b47c6",
   "metadata": {},
   "outputs": [],
   "source": []
  },
  {
   "cell_type": "code",
   "execution_count": null,
   "id": "801e85f1",
   "metadata": {},
   "outputs": [],
   "source": []
  },
  {
   "cell_type": "code",
   "execution_count": null,
   "id": "3477a592",
   "metadata": {},
   "outputs": [],
   "source": []
  },
  {
   "cell_type": "code",
   "execution_count": null,
   "id": "50fff7ec",
   "metadata": {},
   "outputs": [],
   "source": []
  },
  {
   "cell_type": "code",
   "execution_count": null,
   "id": "52e62246",
   "metadata": {},
   "outputs": [],
   "source": []
  },
  {
   "cell_type": "code",
   "execution_count": null,
   "id": "af0ae93e",
   "metadata": {},
   "outputs": [],
   "source": []
  },
  {
   "cell_type": "code",
   "execution_count": null,
   "id": "62af1f42",
   "metadata": {},
   "outputs": [],
   "source": []
  },
  {
   "cell_type": "code",
   "execution_count": null,
   "id": "cddbcfde",
   "metadata": {},
   "outputs": [],
   "source": []
  },
  {
   "cell_type": "code",
   "execution_count": null,
   "id": "45104222",
   "metadata": {},
   "outputs": [],
   "source": []
  },
  {
   "cell_type": "code",
   "execution_count": null,
   "id": "99740e9d",
   "metadata": {},
   "outputs": [],
   "source": []
  },
  {
   "cell_type": "code",
   "execution_count": null,
   "id": "75678219",
   "metadata": {},
   "outputs": [],
   "source": []
  },
  {
   "cell_type": "code",
   "execution_count": null,
   "id": "586cd8ef",
   "metadata": {},
   "outputs": [],
   "source": []
  },
  {
   "cell_type": "code",
   "execution_count": null,
   "id": "3c351091",
   "metadata": {},
   "outputs": [],
   "source": []
  },
  {
   "cell_type": "code",
   "execution_count": null,
   "id": "742d56b1",
   "metadata": {},
   "outputs": [],
   "source": []
  },
  {
   "cell_type": "code",
   "execution_count": null,
   "id": "d0c42b2f",
   "metadata": {},
   "outputs": [],
   "source": []
  },
  {
   "cell_type": "code",
   "execution_count": null,
   "id": "a1bfe94d",
   "metadata": {},
   "outputs": [],
   "source": []
  },
  {
   "cell_type": "code",
   "execution_count": null,
   "id": "a743c8e4",
   "metadata": {},
   "outputs": [],
   "source": []
  },
  {
   "cell_type": "code",
   "execution_count": null,
   "id": "5a0b3aea",
   "metadata": {},
   "outputs": [],
   "source": []
  },
  {
   "cell_type": "code",
   "execution_count": null,
   "id": "1819b1c2",
   "metadata": {},
   "outputs": [],
   "source": []
  },
  {
   "cell_type": "code",
   "execution_count": null,
   "id": "851a82d7",
   "metadata": {},
   "outputs": [],
   "source": []
  },
  {
   "cell_type": "code",
   "execution_count": null,
   "id": "e4da1ae4",
   "metadata": {},
   "outputs": [],
   "source": []
  },
  {
   "cell_type": "code",
   "execution_count": null,
   "id": "7988d3c6",
   "metadata": {},
   "outputs": [],
   "source": []
  },
  {
   "cell_type": "code",
   "execution_count": null,
   "id": "e7125b6f",
   "metadata": {},
   "outputs": [],
   "source": []
  },
  {
   "cell_type": "code",
   "execution_count": null,
   "id": "db6622ee",
   "metadata": {},
   "outputs": [],
   "source": []
  },
  {
   "cell_type": "code",
   "execution_count": null,
   "id": "b56b7c1c",
   "metadata": {},
   "outputs": [],
   "source": []
  },
  {
   "cell_type": "code",
   "execution_count": null,
   "id": "39ef700d",
   "metadata": {},
   "outputs": [],
   "source": []
  },
  {
   "cell_type": "code",
   "execution_count": null,
   "id": "ae7346a2",
   "metadata": {},
   "outputs": [],
   "source": []
  },
  {
   "cell_type": "code",
   "execution_count": null,
   "id": "c87bb261",
   "metadata": {},
   "outputs": [],
   "source": []
  },
  {
   "cell_type": "code",
   "execution_count": null,
   "id": "abcd79d0",
   "metadata": {},
   "outputs": [],
   "source": []
  },
  {
   "cell_type": "code",
   "execution_count": null,
   "id": "3ce26f93",
   "metadata": {},
   "outputs": [],
   "source": []
  },
  {
   "cell_type": "code",
   "execution_count": null,
   "id": "64973e18",
   "metadata": {},
   "outputs": [],
   "source": []
  },
  {
   "cell_type": "code",
   "execution_count": null,
   "id": "e0ede768",
   "metadata": {},
   "outputs": [],
   "source": [
    " "
   ]
  },
  {
   "cell_type": "code",
   "execution_count": null,
   "id": "6867b591",
   "metadata": {},
   "outputs": [],
   "source": []
  },
  {
   "cell_type": "code",
   "execution_count": null,
   "id": "a0f2054a",
   "metadata": {},
   "outputs": [],
   "source": []
  },
  {
   "cell_type": "code",
   "execution_count": null,
   "id": "af09072f",
   "metadata": {},
   "outputs": [],
   "source": []
  },
  {
   "cell_type": "code",
   "execution_count": null,
   "id": "4a595b03",
   "metadata": {},
   "outputs": [],
   "source": []
  },
  {
   "cell_type": "code",
   "execution_count": null,
   "id": "b898e0f9",
   "metadata": {},
   "outputs": [],
   "source": []
  },
  {
   "cell_type": "code",
   "execution_count": null,
   "id": "265cd48c",
   "metadata": {},
   "outputs": [],
   "source": []
  },
  {
   "cell_type": "code",
   "execution_count": null,
   "id": "16731262",
   "metadata": {},
   "outputs": [],
   "source": []
  },
  {
   "cell_type": "code",
   "execution_count": null,
   "id": "8843055d",
   "metadata": {},
   "outputs": [],
   "source": []
  },
  {
   "cell_type": "code",
   "execution_count": null,
   "id": "a387ab6a",
   "metadata": {},
   "outputs": [],
   "source": []
  },
  {
   "cell_type": "code",
   "execution_count": null,
   "id": "8450db89",
   "metadata": {},
   "outputs": [],
   "source": []
  },
  {
   "cell_type": "code",
   "execution_count": null,
   "id": "4be162b3",
   "metadata": {},
   "outputs": [],
   "source": []
  },
  {
   "cell_type": "code",
   "execution_count": null,
   "id": "38265fa4",
   "metadata": {},
   "outputs": [],
   "source": []
  },
  {
   "cell_type": "code",
   "execution_count": null,
   "id": "fb7f932b",
   "metadata": {},
   "outputs": [],
   "source": []
  },
  {
   "cell_type": "code",
   "execution_count": null,
   "id": "c007e947",
   "metadata": {},
   "outputs": [],
   "source": []
  },
  {
   "cell_type": "code",
   "execution_count": null,
   "id": "8bd565f2",
   "metadata": {},
   "outputs": [],
   "source": []
  },
  {
   "cell_type": "code",
   "execution_count": null,
   "id": "09ff0004",
   "metadata": {},
   "outputs": [],
   "source": []
  },
  {
   "cell_type": "code",
   "execution_count": null,
   "id": "7a9a8a4e",
   "metadata": {},
   "outputs": [],
   "source": []
  },
  {
   "cell_type": "code",
   "execution_count": null,
   "id": "20aea08f",
   "metadata": {},
   "outputs": [],
   "source": []
  },
  {
   "cell_type": "code",
   "execution_count": null,
   "id": "1cd9173a",
   "metadata": {},
   "outputs": [],
   "source": []
  },
  {
   "cell_type": "code",
   "execution_count": null,
   "id": "b2a0befa",
   "metadata": {},
   "outputs": [],
   "source": []
  },
  {
   "cell_type": "code",
   "execution_count": null,
   "id": "cfb119b1",
   "metadata": {},
   "outputs": [],
   "source": []
  },
  {
   "cell_type": "code",
   "execution_count": null,
   "id": "7397e11c",
   "metadata": {},
   "outputs": [],
   "source": []
  },
  {
   "cell_type": "code",
   "execution_count": null,
   "id": "8f010416",
   "metadata": {},
   "outputs": [],
   "source": []
  },
  {
   "cell_type": "code",
   "execution_count": null,
   "id": "dff7abca",
   "metadata": {},
   "outputs": [],
   "source": []
  },
  {
   "cell_type": "code",
   "execution_count": null,
   "id": "840d7f41",
   "metadata": {},
   "outputs": [],
   "source": []
  },
  {
   "cell_type": "code",
   "execution_count": null,
   "id": "cabe2c29",
   "metadata": {},
   "outputs": [],
   "source": []
  },
  {
   "cell_type": "code",
   "execution_count": null,
   "id": "ff7acd04",
   "metadata": {},
   "outputs": [],
   "source": []
  },
  {
   "cell_type": "code",
   "execution_count": null,
   "id": "845188e3",
   "metadata": {},
   "outputs": [],
   "source": []
  },
  {
   "cell_type": "code",
   "execution_count": null,
   "id": "ed3896f5",
   "metadata": {},
   "outputs": [],
   "source": []
  },
  {
   "cell_type": "code",
   "execution_count": null,
   "id": "30b3cbdd",
   "metadata": {},
   "outputs": [],
   "source": []
  },
  {
   "cell_type": "code",
   "execution_count": null,
   "id": "5f066585",
   "metadata": {},
   "outputs": [],
   "source": []
  },
  {
   "cell_type": "code",
   "execution_count": null,
   "id": "76633148",
   "metadata": {},
   "outputs": [],
   "source": []
  },
  {
   "cell_type": "code",
   "execution_count": null,
   "id": "55c13828",
   "metadata": {},
   "outputs": [],
   "source": []
  },
  {
   "cell_type": "code",
   "execution_count": null,
   "id": "7b9210dc",
   "metadata": {},
   "outputs": [],
   "source": []
  },
  {
   "cell_type": "code",
   "execution_count": null,
   "id": "c40ec181",
   "metadata": {},
   "outputs": [],
   "source": []
  },
  {
   "cell_type": "code",
   "execution_count": null,
   "id": "c5cb3e2e",
   "metadata": {},
   "outputs": [],
   "source": []
  },
  {
   "cell_type": "code",
   "execution_count": null,
   "id": "535178f4",
   "metadata": {},
   "outputs": [],
   "source": []
  },
  {
   "cell_type": "code",
   "execution_count": null,
   "id": "e5356730",
   "metadata": {},
   "outputs": [],
   "source": []
  },
  {
   "cell_type": "code",
   "execution_count": null,
   "id": "9034a21c",
   "metadata": {},
   "outputs": [],
   "source": []
  },
  {
   "cell_type": "code",
   "execution_count": null,
   "id": "09115521",
   "metadata": {},
   "outputs": [],
   "source": []
  },
  {
   "cell_type": "code",
   "execution_count": null,
   "id": "f9959020",
   "metadata": {},
   "outputs": [],
   "source": []
  },
  {
   "cell_type": "code",
   "execution_count": null,
   "id": "fddf4231",
   "metadata": {},
   "outputs": [],
   "source": []
  },
  {
   "cell_type": "code",
   "execution_count": null,
   "id": "d4365fd3",
   "metadata": {},
   "outputs": [],
   "source": []
  },
  {
   "cell_type": "code",
   "execution_count": null,
   "id": "8615ea4a",
   "metadata": {},
   "outputs": [],
   "source": []
  },
  {
   "cell_type": "code",
   "execution_count": null,
   "id": "21937a27",
   "metadata": {},
   "outputs": [],
   "source": []
  },
  {
   "cell_type": "code",
   "execution_count": null,
   "id": "4aeab07b",
   "metadata": {},
   "outputs": [],
   "source": []
  },
  {
   "cell_type": "code",
   "execution_count": null,
   "id": "793c5400",
   "metadata": {},
   "outputs": [],
   "source": []
  },
  {
   "cell_type": "code",
   "execution_count": null,
   "id": "52b65669",
   "metadata": {},
   "outputs": [],
   "source": []
  },
  {
   "cell_type": "code",
   "execution_count": null,
   "id": "d7956b8c",
   "metadata": {},
   "outputs": [],
   "source": []
  },
  {
   "cell_type": "code",
   "execution_count": null,
   "id": "32750a72",
   "metadata": {},
   "outputs": [],
   "source": []
  },
  {
   "cell_type": "code",
   "execution_count": null,
   "id": "48f1d663",
   "metadata": {},
   "outputs": [],
   "source": []
  },
  {
   "cell_type": "code",
   "execution_count": null,
   "id": "8cc2155f",
   "metadata": {},
   "outputs": [],
   "source": []
  },
  {
   "cell_type": "code",
   "execution_count": null,
   "id": "6ba3679e",
   "metadata": {},
   "outputs": [],
   "source": []
  },
  {
   "cell_type": "code",
   "execution_count": null,
   "id": "0822521f",
   "metadata": {},
   "outputs": [],
   "source": []
  },
  {
   "cell_type": "code",
   "execution_count": null,
   "id": "4c0c11b5",
   "metadata": {},
   "outputs": [],
   "source": []
  },
  {
   "cell_type": "code",
   "execution_count": null,
   "id": "77673415",
   "metadata": {},
   "outputs": [],
   "source": []
  },
  {
   "cell_type": "code",
   "execution_count": null,
   "id": "9e6258df",
   "metadata": {},
   "outputs": [],
   "source": []
  },
  {
   "cell_type": "code",
   "execution_count": null,
   "id": "006cc9c6",
   "metadata": {},
   "outputs": [],
   "source": []
  },
  {
   "cell_type": "code",
   "execution_count": null,
   "id": "9759d25c",
   "metadata": {},
   "outputs": [],
   "source": []
  },
  {
   "cell_type": "code",
   "execution_count": null,
   "id": "775bf1d4",
   "metadata": {},
   "outputs": [],
   "source": []
  }
 ],
 "metadata": {
  "kernelspec": {
   "display_name": "Python 3 (ipykernel)",
   "language": "python",
   "name": "python3"
  },
  "language_info": {
   "codemirror_mode": {
    "name": "ipython",
    "version": 3
   },
   "file_extension": ".py",
   "mimetype": "text/x-python",
   "name": "python",
   "nbconvert_exporter": "python",
   "pygments_lexer": "ipython3",
   "version": "3.9.7"
  }
 },
 "nbformat": 4,
 "nbformat_minor": 5
}
